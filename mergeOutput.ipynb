{
 "cells": [
  {
   "cell_type": "code",
   "execution_count": 1,
   "metadata": {},
   "outputs": [],
   "source": [
    "import pandas as pd\n",
    "import os\n",
    "from datetime import datetime"
   ]
  },
  {
   "cell_type": "code",
   "execution_count": 2,
   "metadata": {},
   "outputs": [],
   "source": [
    "\n",
    "\n",
    "def merge_csv_files(directory):\n",
    "    all_files = [f for f in os.listdir(directory) if f.endswith('.csv')]\n",
    "    df_list = []\n",
    "    \n",
    "    for filename in all_files:\n",
    "        df = pd.read_csv(os.path.join(directory, filename))\n",
    "        df_list.append(df)\n",
    "    \n",
    "    combined_df = pd.concat(df_list, ignore_index=True)\n",
    "    combined_df['time'] = pd.to_datetime(combined_df['time'])\n",
    "    combined_df = combined_df.sort_values('time')\n",
    "    \n",
    "    combined_df.to_csv('MAIN.CSV', index=False)\n",
    "    print(\"All CSV files have been merged into MAIN.CSV\")\n"
   ]
  },
  {
   "cell_type": "code",
   "execution_count": 3,
   "metadata": {},
   "outputs": [
    {
     "name": "stdout",
     "output_type": "stream",
     "text": [
      "All CSV files have been merged into MAIN.CSV\n"
     ]
    }
   ],
   "source": [
    "# Usage\n",
    "merge_csv_files('.')  # Assuming CSV files are in the current directory\n"
   ]
  },
  {
   "cell_type": "code",
   "execution_count": 4,
   "metadata": {},
   "outputs": [],
   "source": [
    "import pandas as pd\n",
    "import os\n",
    "from datetime import datetime"
   ]
  },
  {
   "cell_type": "code",
   "execution_count": null,
   "metadata": {},
   "outputs": [],
   "source": []
  }
 ],
 "metadata": {
  "kernelspec": {
   "display_name": "api",
   "language": "python",
   "name": "python3"
  },
  "language_info": {
   "codemirror_mode": {
    "name": "ipython",
    "version": 3
   },
   "file_extension": ".py",
   "mimetype": "text/x-python",
   "name": "python",
   "nbconvert_exporter": "python",
   "pygments_lexer": "ipython3",
   "version": "3.10.12"
  }
 },
 "nbformat": 4,
 "nbformat_minor": 2
}
